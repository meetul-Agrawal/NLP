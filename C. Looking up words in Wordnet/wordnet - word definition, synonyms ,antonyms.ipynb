{
 "cells": [
  {
   "cell_type": "markdown",
   "id": "46b13346",
   "metadata": {},
   "source": [
    "##  WORDNET"
   ]
  },
  {
   "cell_type": "markdown",
   "id": "f6a10ecf",
   "metadata": {},
   "source": [
    "Wordnet is a large lexical database of English, which was created by Princeton. It is a part of the NLTK corpus. Nouns, verbs, adjectives and adverbs all are grouped into set of synsets, i.e., cognitive synonyms. Here each set of synsets express a distinct meaning. Following are some use cases of Wordnet −\n",
    "\n",
    "1. It can be used to look up the definition of a word\n",
    "2. We can find synonyms and antonyms of a word\n",
    "3. Word relations and similarities can be explored using Wordnet\n",
    "4. Word sense disambiguation for those words having multiple uses and definitions"
   ]
  },
  {
   "cell_type": "code",
   "execution_count": 1,
   "id": "969765c9",
   "metadata": {},
   "outputs": [],
   "source": [
    "import nltk"
   ]
  },
  {
   "cell_type": "code",
   "execution_count": 2,
   "id": "d50e7ce6",
   "metadata": {},
   "outputs": [],
   "source": [
    "from nltk.corpus import wordnet as wn"
   ]
  },
  {
   "cell_type": "markdown",
   "id": "28acb9ee",
   "metadata": {},
   "source": [
    "### sysnet"
   ]
  },
  {
   "cell_type": "markdown",
   "id": "0d55f0de",
   "metadata": {},
   "source": [
    "Synset are groupings of synonyms words that express the same concept. When you use Wordnet to look up words, you will get a list of Synset instances."
   ]
  },
  {
   "cell_type": "markdown",
   "id": "c3596cf5",
   "metadata": {},
   "source": [
    "To get a list of Synsets, we can look up any word in Wordnet by using wordnet.synsets(word). For example, in next Python recipe, we are going to look up the Synset for the ‘dog’ along with some properties and methods of Synset −"
   ]
  },
  {
   "cell_type": "code",
   "execution_count": 28,
   "id": "c17ee0c8",
   "metadata": {},
   "outputs": [
    {
     "data": {
      "text/plain": [
       "'dog.n.01'"
      ]
     },
     "execution_count": 28,
     "metadata": {},
     "output_type": "execute_result"
    }
   ],
   "source": [
    "sys = wn.synsets('dog')[0]\n",
    "sys.name()"
   ]
  },
  {
   "cell_type": "code",
   "execution_count": 29,
   "id": "3b9d1d22",
   "metadata": {},
   "outputs": [
    {
     "data": {
      "text/plain": [
       "'a member of the genus Canis (probably descended from the common wolf) that has been domesticated by man since prehistoric times; occurs in many breeds'"
      ]
     },
     "execution_count": 29,
     "metadata": {},
     "output_type": "execute_result"
    }
   ],
   "source": [
    "sys.definition()"
   ]
  },
  {
   "cell_type": "code",
   "execution_count": 30,
   "id": "5f19594c",
   "metadata": {},
   "outputs": [
    {
     "data": {
      "text/plain": [
       "['the dog barked all night']"
      ]
     },
     "execution_count": 30,
     "metadata": {},
     "output_type": "execute_result"
    }
   ],
   "source": [
    "sys.examples()"
   ]
  },
  {
   "cell_type": "markdown",
   "id": "d820e04a",
   "metadata": {},
   "source": [
    "### Hypernyms and Hyponyms"
   ]
  },
  {
   "cell_type": "markdown",
   "id": "ae100991",
   "metadata": {},
   "source": [
    "hypernyms - represents more abstracted terms"
   ]
  },
  {
   "cell_type": "markdown",
   "id": "b625f135",
   "metadata": {},
   "source": [
    "Hyponyms represents the more specific terms."
   ]
  },
  {
   "cell_type": "code",
   "execution_count": 35,
   "id": "081f595e",
   "metadata": {},
   "outputs": [
    {
     "data": {
      "text/plain": [
       "[Synset('canine.n.02'), Synset('domestic_animal.n.01')]"
      ]
     },
     "execution_count": 35,
     "metadata": {},
     "output_type": "execute_result"
    }
   ],
   "source": [
    "sys = wn.synsets('dog')[0]\n",
    "sys.hypernyms()"
   ]
  },
  {
   "cell_type": "code",
   "execution_count": 36,
   "id": "607d2f57",
   "metadata": {},
   "outputs": [
    {
     "data": {
      "text/plain": [
       "[Synset('basenji.n.01'),\n",
       " Synset('corgi.n.01'),\n",
       " Synset('cur.n.01'),\n",
       " Synset('dalmatian.n.02'),\n",
       " Synset('great_pyrenees.n.01'),\n",
       " Synset('griffon.n.02'),\n",
       " Synset('hunting_dog.n.01'),\n",
       " Synset('lapdog.n.01'),\n",
       " Synset('leonberg.n.01'),\n",
       " Synset('mexican_hairless.n.01'),\n",
       " Synset('newfoundland.n.01'),\n",
       " Synset('pooch.n.01'),\n",
       " Synset('poodle.n.01'),\n",
       " Synset('pug.n.01'),\n",
       " Synset('puppy.n.01'),\n",
       " Synset('spitz.n.01'),\n",
       " Synset('toy_dog.n.01'),\n",
       " Synset('working_dog.n.01')]"
      ]
     },
     "execution_count": 36,
     "metadata": {},
     "output_type": "execute_result"
    }
   ],
   "source": [
    "sys.hyponyms()"
   ]
  },
  {
   "cell_type": "code",
   "execution_count": 37,
   "id": "2e885078",
   "metadata": {},
   "outputs": [
    {
     "data": {
      "text/plain": [
       "[Synset('bitch.n.04'),\n",
       " Synset('dog.n.01'),\n",
       " Synset('fox.n.01'),\n",
       " Synset('hyena.n.01'),\n",
       " Synset('jackal.n.01'),\n",
       " Synset('wild_dog.n.01'),\n",
       " Synset('wolf.n.01')]"
      ]
     },
     "execution_count": 37,
     "metadata": {},
     "output_type": "execute_result"
    }
   ],
   "source": [
    "sys.hypernyms()[0].hyponyms()"
   ]
  },
  {
   "cell_type": "code",
   "execution_count": 38,
   "id": "9ee5d5d0",
   "metadata": {},
   "outputs": [
    {
     "data": {
      "text/plain": [
       "[Synset('entity.n.01')]"
      ]
     },
     "execution_count": 38,
     "metadata": {},
     "output_type": "execute_result"
    }
   ],
   "source": [
    "sys.root_hypernyms()"
   ]
  },
  {
   "cell_type": "markdown",
   "id": "b45fc8ee",
   "metadata": {},
   "source": [
    "###  LEMMAS"
   ]
  },
  {
   "cell_type": "markdown",
   "id": "dd9e09eb",
   "metadata": {},
   "source": [
    "In linguistics, the canonical form or morphological form of a word is called a lemma. To find a synonym as well as antonym of a word, we can also lookup lemmas in WordNet."
   ]
  },
  {
   "cell_type": "markdown",
   "id": "8cb2146d",
   "metadata": {},
   "source": [
    "By using the lemma() method, we can find the number of synonyms of a Synset. Let us apply this method on ‘dog’ synset −"
   ]
  },
  {
   "cell_type": "code",
   "execution_count": 45,
   "id": "d6f596e5",
   "metadata": {},
   "outputs": [
    {
     "name": "stdout",
     "output_type": "stream",
     "text": [
      "[Lemma('dog.n.01.dog'), Lemma('dog.n.01.domestic_dog'), Lemma('dog.n.01.Canis_familiaris')]\n",
      "\n",
      "\n",
      "3\n"
     ]
    },
    {
     "data": {
      "text/plain": [
       "[Lemma('dog.n.01.dog'),\n",
       " Lemma('dog.n.01.domestic_dog'),\n",
       " Lemma('dog.n.01.Canis_familiaris')]"
      ]
     },
     "execution_count": 45,
     "metadata": {},
     "output_type": "execute_result"
    }
   ],
   "source": [
    "lemma = sys.lemmas()\n",
    "print(lemma)\n",
    "print('\\n')\n",
    "print(len(lemma))\n",
    "lemma"
   ]
  },
  {
   "cell_type": "code",
   "execution_count": 46,
   "id": "ad5fc3e7",
   "metadata": {},
   "outputs": [
    {
     "data": {
      "text/plain": [
       "'dog'"
      ]
     },
     "execution_count": 46,
     "metadata": {},
     "output_type": "execute_result"
    }
   ],
   "source": [
    "lemma[0].name()"
   ]
  },
  {
   "cell_type": "code",
   "execution_count": 47,
   "id": "ea7581c5",
   "metadata": {},
   "outputs": [
    {
     "data": {
      "text/plain": [
       "'domestic_dog'"
      ]
     },
     "execution_count": 47,
     "metadata": {},
     "output_type": "execute_result"
    }
   ],
   "source": [
    "lemma[1].name()"
   ]
  },
  {
   "cell_type": "code",
   "execution_count": 49,
   "id": "0fdbdd22",
   "metadata": {},
   "outputs": [
    {
     "data": {
      "text/plain": [
       "'Canis_familiaris'"
      ]
     },
     "execution_count": 49,
     "metadata": {},
     "output_type": "execute_result"
    }
   ],
   "source": [
    "lemma[2].name()"
   ]
  },
  {
   "cell_type": "markdown",
   "id": "4fb1fb06",
   "metadata": {},
   "source": [
    "Actually, a Synset represents a group of lemmas that all have similar meaning while a lemma represents a distinct word form."
   ]
  },
  {
   "cell_type": "markdown",
   "id": "313313ec",
   "metadata": {},
   "source": [
    "###  Finding Antonyms"
   ]
  },
  {
   "cell_type": "code",
   "execution_count": 77,
   "id": "a7630e95",
   "metadata": {},
   "outputs": [
    {
     "data": {
      "text/plain": [
       "[Synset('good.n.01'),\n",
       " Synset('good.n.02'),\n",
       " Synset('good.n.03'),\n",
       " Synset('commodity.n.01'),\n",
       " Synset('good.a.01'),\n",
       " Synset('full.s.06'),\n",
       " Synset('good.a.03'),\n",
       " Synset('estimable.s.02'),\n",
       " Synset('beneficial.s.01'),\n",
       " Synset('good.s.06'),\n",
       " Synset('good.s.07'),\n",
       " Synset('adept.s.01'),\n",
       " Synset('good.s.09'),\n",
       " Synset('dear.s.02'),\n",
       " Synset('dependable.s.04'),\n",
       " Synset('good.s.12'),\n",
       " Synset('good.s.13'),\n",
       " Synset('effective.s.04'),\n",
       " Synset('good.s.15'),\n",
       " Synset('good.s.16'),\n",
       " Synset('good.s.17'),\n",
       " Synset('good.s.18'),\n",
       " Synset('good.s.19'),\n",
       " Synset('good.s.20'),\n",
       " Synset('good.s.21'),\n",
       " Synset('well.r.01'),\n",
       " Synset('thoroughly.r.02')]"
      ]
     },
     "execution_count": 77,
     "metadata": {},
     "output_type": "execute_result"
    }
   ],
   "source": [
    "s = wn.synsets('good')\n",
    "s"
   ]
  },
  {
   "cell_type": "code",
   "execution_count": 63,
   "id": "c898ac78",
   "metadata": {},
   "outputs": [
    {
     "data": {
      "text/plain": [
       "Synset('good.n.02')"
      ]
     },
     "execution_count": 63,
     "metadata": {},
     "output_type": "execute_result"
    }
   ],
   "source": [
    "sys1 = wn.synset('good.n.02')\n",
    "sys1"
   ]
  },
  {
   "cell_type": "code",
   "execution_count": 74,
   "id": "980afc88",
   "metadata": {},
   "outputs": [
    {
     "data": {
      "text/plain": [
       "'moral excellence or admirableness'"
      ]
     },
     "execution_count": 74,
     "metadata": {},
     "output_type": "execute_result"
    }
   ],
   "source": [
    "sys1.definition()"
   ]
  },
  {
   "cell_type": "code",
   "execution_count": 81,
   "id": "679779ec",
   "metadata": {},
   "outputs": [
    {
     "data": {
      "text/plain": [
       "'bad'"
      ]
     },
     "execution_count": 81,
     "metadata": {},
     "output_type": "execute_result"
    }
   ],
   "source": [
    "an1 = sys1.lemmas()[0].antonyms()[0]\n",
    "an1.name()"
   ]
  },
  {
   "cell_type": "code",
   "execution_count": 76,
   "id": "992b2979",
   "metadata": {},
   "outputs": [
    {
     "data": {
      "text/plain": [
       "'the quality of being morally wrong in principle or practice'"
      ]
     },
     "execution_count": 76,
     "metadata": {},
     "output_type": "execute_result"
    }
   ],
   "source": [
    "an.synset().definition()"
   ]
  },
  {
   "cell_type": "markdown",
   "id": "3665c1db",
   "metadata": {},
   "source": [
    "The above example shows that the word ‘good’, when used as noun, have the first antonym ‘evil’."
   ]
  },
  {
   "cell_type": "code",
   "execution_count": 79,
   "id": "e118716f",
   "metadata": {},
   "outputs": [
    {
     "data": {
      "text/plain": [
       "Synset('good.a.01')"
      ]
     },
     "execution_count": 79,
     "metadata": {},
     "output_type": "execute_result"
    }
   ],
   "source": [
    "sys2 = wn.synset('good.a.01')\n",
    "sys2"
   ]
  },
  {
   "cell_type": "code",
   "execution_count": 80,
   "id": "34f0d06d",
   "metadata": {},
   "outputs": [
    {
     "data": {
      "text/plain": [
       "'having desirable or positive qualities especially those suitable for a thing specified'"
      ]
     },
     "execution_count": 80,
     "metadata": {},
     "output_type": "execute_result"
    }
   ],
   "source": [
    "sys2.definition()"
   ]
  },
  {
   "cell_type": "code",
   "execution_count": 82,
   "id": "5ba1913d",
   "metadata": {},
   "outputs": [
    {
     "data": {
      "text/plain": [
       "'bad'"
      ]
     },
     "execution_count": 82,
     "metadata": {},
     "output_type": "execute_result"
    }
   ],
   "source": [
    "an2 = sys2.lemmas()[0].antonyms()[0]\n",
    "an2.name()"
   ]
  },
  {
   "cell_type": "code",
   "execution_count": 83,
   "id": "c571eb9f",
   "metadata": {},
   "outputs": [
    {
     "data": {
      "text/plain": [
       "'having undesirable or negative qualities'"
      ]
     },
     "execution_count": 83,
     "metadata": {},
     "output_type": "execute_result"
    }
   ],
   "source": [
    "an2.synset().definition()"
   ]
  },
  {
   "cell_type": "markdown",
   "id": "5e4330a9",
   "metadata": {},
   "source": [
    "The above example shows that the word ‘good’, when used as adjective, have the first antonym ‘bad’."
   ]
  }
 ],
 "metadata": {
  "kernelspec": {
   "display_name": "Python 3",
   "language": "python",
   "name": "python3"
  },
  "language_info": {
   "codemirror_mode": {
    "name": "ipython",
    "version": 3
   },
   "file_extension": ".py",
   "mimetype": "text/x-python",
   "name": "python",
   "nbconvert_exporter": "python",
   "pygments_lexer": "ipython3",
   "version": "3.8.8"
  }
 },
 "nbformat": 4,
 "nbformat_minor": 5
}
