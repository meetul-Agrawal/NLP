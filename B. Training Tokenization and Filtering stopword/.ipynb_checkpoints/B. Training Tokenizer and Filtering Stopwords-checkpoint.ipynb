{
 "cells": [
  {
   "cell_type": "markdown",
   "id": "77e9c481",
   "metadata": {},
   "source": [
    "# Training Tokenizer"
   ]
  },
  {
   "cell_type": "markdown",
   "id": "f86c019c",
   "metadata": {},
   "source": [
    "This is very important question that if we have NLTK’s default sentence tokenizer then why do we need to train a sentence tokenizer? The answer to this question lies in the quality of NLTK’s default sentence tokenizer. The NLTK’s default tokenizer is basically a general-purpose tokenizer. Although it works very well but it may not be a good choice for nonstandard text, that perhaps our text is, or for a text that is having a unique formatting. To tokenize such text and get best results, we should train our own sentence tokenizer."
   ]
  },
  {
   "cell_type": "code",
   "execution_count": 5,
   "id": "94192808",
   "metadata": {},
   "outputs": [
    {
     "name": "stdout",
     "output_type": "stream",
     "text": [
      "Guy: How old are you?\n",
      "\n",
      "Hipster girl: You know, I never answer that question. Because to me, it's about\n",
      "how mature you are, you know? I mean, a fourteen year old could be more mature\n",
      "than a twenty-five year old, right? I'm sorry, I just never answer that question.\n",
      "Guy: But, uh, you're older than eighteen, right?\n",
      "\n",
      "Hipster girl: Oh, yeah.\n"
     ]
    }
   ],
   "source": [
    "print(\"\"\"Guy: How old are you?\n",
    "\n",
    "Hipster girl: You know, I never answer that question. Because to me, it's about\n",
    "how mature you are, you know? I mean, a fourteen year old could be more mature\n",
    "than a twenty-five year old, right? I'm sorry, I just never answer that question.\n",
    "Guy: But, uh, you're older than eighteen, right?\n",
    "\n",
    "Hipster girl: Oh, yeah.\"\"\")"
   ]
  },
  {
   "cell_type": "markdown",
   "id": "8275f472",
   "metadata": {},
   "source": [
    "We have saved this text file with the name of training_tokenizer. NLTK provides a class named <b><i>PunktSentenceTokenizer</b></i> with the help of which we can train on raw text to produce a custom sentence tokenizer. We can get raw text either by reading in a file or from an NLTK corpus using the raw() method."
   ]
  },
  {
   "cell_type": "code",
   "execution_count": 5,
   "id": "e3997438",
   "metadata": {},
   "outputs": [],
   "source": [
    "import nltk"
   ]
  },
  {
   "cell_type": "code",
   "execution_count": 6,
   "id": "75f65933",
   "metadata": {},
   "outputs": [],
   "source": [
    "from nltk.tokenize import PunktSentenceTokenizer"
   ]
  },
  {
   "cell_type": "code",
   "execution_count": 7,
   "id": "b63e79db",
   "metadata": {},
   "outputs": [],
   "source": [
    "from nltk.corpus import webtext"
   ]
  },
  {
   "cell_type": "code",
   "execution_count": 31,
   "id": "96df9ba5",
   "metadata": {},
   "outputs": [
    {
     "name": "stderr",
     "output_type": "stream",
     "text": [
      "[nltk_data] Downloading package webtext to\n",
      "[nltk_data]     C:\\Users\\hp\\AppData\\Roaming\\nltk_data...\n",
      "[nltk_data]   Unzipping corpora\\webtext.zip.\n"
     ]
    },
    {
     "data": {
      "text/plain": [
       "True"
      ]
     },
     "execution_count": 31,
     "metadata": {},
     "output_type": "execute_result"
    }
   ],
   "source": [
    "nltk.download('webtext')"
   ]
  },
  {
   "cell_type": "code",
   "execution_count": 39,
   "id": "36f84547",
   "metadata": {},
   "outputs": [],
   "source": [
    "text = webtext.raw(r'C:\\Users\\hp\\NLP\\B. Training Tokenization and Filtering stopword\\training_tokenizer.txt')"
   ]
  },
  {
   "cell_type": "code",
   "execution_count": 40,
   "id": "b4bf0d00",
   "metadata": {},
   "outputs": [
    {
     "data": {
      "text/plain": [
       "\"Guy: How old are you?\\r\\nHipster girl: You know, I never answer that question. Because to me, it's about\\r\\nhow mature you are, you know? I mean, a fourteen year old could be more mature\\r\\nthan a twenty-five year old, right? I'm sorry, I just never answer that question.\\r\\nGuy: But, uh, you're older than eighteen, right?\\r\\nHipster girl: Oh, yeah.\""
      ]
     },
     "execution_count": 40,
     "metadata": {},
     "output_type": "execute_result"
    }
   ],
   "source": [
    "text"
   ]
  },
  {
   "cell_type": "code",
   "execution_count": 53,
   "id": "0d47f4fb",
   "metadata": {},
   "outputs": [
    {
     "name": "stdout",
     "output_type": "stream",
     "text": [
      "['Guy: How old are you?', 'Hipster girl: You know, I never answer that question.', \"Because to me, it's about\\r\\nhow mature you are, you know?\", 'I mean, a fourteen year old could be more mature\\r\\nthan a twenty-five year old, right?', \"I'm sorry, I just never answer that question.\", \"Guy: But, uh, you're older than eighteen, right?\", 'Hipster girl: Oh, yeah.']\n",
      "\n",
      "\n",
      "Guy: But, uh, you're older than eighteen, right?\n"
     ]
    }
   ],
   "source": [
    "sente_token = PunktSentenceTokenizer(text)\n",
    "sent_1 = sente_token.tokenize(text)\n",
    "print(sent_1)\n",
    "print('\\n')\n",
    "print(sent_1[5])"
   ]
  },
  {
   "cell_type": "markdown",
   "id": "51adf577",
   "metadata": {},
   "source": [
    "To understand the difference between NLTK’s default sentence tokenizer and our own trained sentence tokenizer, let us tokenize the same file with default sentence tokenizer i.e. sent_tokenize()."
   ]
  },
  {
   "cell_type": "code",
   "execution_count": 52,
   "id": "eb4e0af7",
   "metadata": {},
   "outputs": [
    {
     "name": "stdout",
     "output_type": "stream",
     "text": [
      "Hipster girl: You know, I never answer that question.\n",
      "Guy: But, uh, you're older than eighteen, right?\n"
     ]
    }
   ],
   "source": [
    "from nltk.tokenize import sent_tokenize\n",
    "sent_2 = sent_tokenize(text)\n",
    "print(sent_2[1])\n",
    "print(sent_2[5])"
   ]
  },
  {
   "cell_type": "markdown",
   "id": "730606f1",
   "metadata": {},
   "source": [
    "# STOPWORDS"
   ]
  },
  {
   "cell_type": "markdown",
   "id": "f4caf508",
   "metadata": {},
   "source": [
    "Some common words that are present in text but do not contribute in the meaning of a sentence. Such words are not at all important for the purpose of information retrieval or natural language processing. The most common stopwords are ‘the’ and ‘a’."
   ]
  },
  {
   "cell_type": "code",
   "execution_count": 54,
   "id": "e0a05e53",
   "metadata": {},
   "outputs": [],
   "source": [
    "from nltk.corpus import stopwords"
   ]
  },
  {
   "cell_type": "code",
   "execution_count": 56,
   "id": "5205b219",
   "metadata": {},
   "outputs": [
    {
     "data": {
      "text/plain": [
       "{'a',\n",
       " 'about',\n",
       " 'above',\n",
       " 'after',\n",
       " 'again',\n",
       " 'against',\n",
       " 'ain',\n",
       " 'all',\n",
       " 'am',\n",
       " 'an',\n",
       " 'and',\n",
       " 'any',\n",
       " 'are',\n",
       " 'aren',\n",
       " \"aren't\",\n",
       " 'as',\n",
       " 'at',\n",
       " 'be',\n",
       " 'because',\n",
       " 'been',\n",
       " 'before',\n",
       " 'being',\n",
       " 'below',\n",
       " 'between',\n",
       " 'both',\n",
       " 'but',\n",
       " 'by',\n",
       " 'can',\n",
       " 'couldn',\n",
       " \"couldn't\",\n",
       " 'd',\n",
       " 'did',\n",
       " 'didn',\n",
       " \"didn't\",\n",
       " 'do',\n",
       " 'does',\n",
       " 'doesn',\n",
       " \"doesn't\",\n",
       " 'doing',\n",
       " 'don',\n",
       " \"don't\",\n",
       " 'down',\n",
       " 'during',\n",
       " 'each',\n",
       " 'few',\n",
       " 'for',\n",
       " 'from',\n",
       " 'further',\n",
       " 'had',\n",
       " 'hadn',\n",
       " \"hadn't\",\n",
       " 'has',\n",
       " 'hasn',\n",
       " \"hasn't\",\n",
       " 'have',\n",
       " 'haven',\n",
       " \"haven't\",\n",
       " 'having',\n",
       " 'he',\n",
       " 'her',\n",
       " 'here',\n",
       " 'hers',\n",
       " 'herself',\n",
       " 'him',\n",
       " 'himself',\n",
       " 'his',\n",
       " 'how',\n",
       " 'i',\n",
       " 'if',\n",
       " 'in',\n",
       " 'into',\n",
       " 'is',\n",
       " 'isn',\n",
       " \"isn't\",\n",
       " 'it',\n",
       " \"it's\",\n",
       " 'its',\n",
       " 'itself',\n",
       " 'just',\n",
       " 'll',\n",
       " 'm',\n",
       " 'ma',\n",
       " 'me',\n",
       " 'mightn',\n",
       " \"mightn't\",\n",
       " 'more',\n",
       " 'most',\n",
       " 'mustn',\n",
       " \"mustn't\",\n",
       " 'my',\n",
       " 'myself',\n",
       " 'needn',\n",
       " \"needn't\",\n",
       " 'no',\n",
       " 'nor',\n",
       " 'not',\n",
       " 'now',\n",
       " 'o',\n",
       " 'of',\n",
       " 'off',\n",
       " 'on',\n",
       " 'once',\n",
       " 'only',\n",
       " 'or',\n",
       " 'other',\n",
       " 'our',\n",
       " 'ours',\n",
       " 'ourselves',\n",
       " 'out',\n",
       " 'over',\n",
       " 'own',\n",
       " 're',\n",
       " 's',\n",
       " 'same',\n",
       " 'shan',\n",
       " \"shan't\",\n",
       " 'she',\n",
       " \"she's\",\n",
       " 'should',\n",
       " \"should've\",\n",
       " 'shouldn',\n",
       " \"shouldn't\",\n",
       " 'so',\n",
       " 'some',\n",
       " 'such',\n",
       " 't',\n",
       " 'than',\n",
       " 'that',\n",
       " \"that'll\",\n",
       " 'the',\n",
       " 'their',\n",
       " 'theirs',\n",
       " 'them',\n",
       " 'themselves',\n",
       " 'then',\n",
       " 'there',\n",
       " 'these',\n",
       " 'they',\n",
       " 'this',\n",
       " 'those',\n",
       " 'through',\n",
       " 'to',\n",
       " 'too',\n",
       " 'under',\n",
       " 'until',\n",
       " 'up',\n",
       " 've',\n",
       " 'very',\n",
       " 'was',\n",
       " 'wasn',\n",
       " \"wasn't\",\n",
       " 'we',\n",
       " 'were',\n",
       " 'weren',\n",
       " \"weren't\",\n",
       " 'what',\n",
       " 'when',\n",
       " 'where',\n",
       " 'which',\n",
       " 'while',\n",
       " 'who',\n",
       " 'whom',\n",
       " 'why',\n",
       " 'will',\n",
       " 'with',\n",
       " 'won',\n",
       " \"won't\",\n",
       " 'wouldn',\n",
       " \"wouldn't\",\n",
       " 'y',\n",
       " 'you',\n",
       " \"you'd\",\n",
       " \"you'll\",\n",
       " \"you're\",\n",
       " \"you've\",\n",
       " 'your',\n",
       " 'yours',\n",
       " 'yourself',\n",
       " 'yourselves'}"
      ]
     },
     "execution_count": 56,
     "metadata": {},
     "output_type": "execute_result"
    }
   ],
   "source": [
    "english_stops = set(stopwords.words('english'))\n",
    "english_stops"
   ]
  },
  {
   "cell_type": "code",
   "execution_count": 61,
   "id": "40120828",
   "metadata": {},
   "outputs": [
    {
     "data": {
      "text/plain": [
       "['I', 'am', 'a', 'writer']"
      ]
     },
     "execution_count": 61,
     "metadata": {},
     "output_type": "execute_result"
    }
   ],
   "source": [
    "from nltk.tokenize import word_tokenize\n",
    "\n",
    "text_stop = 'I am a writer'\n",
    "\n",
    "word = word_tokenize(text_stop)\n",
    "word"
   ]
  },
  {
   "cell_type": "code",
   "execution_count": 62,
   "id": "41c6f57c",
   "metadata": {},
   "outputs": [
    {
     "data": {
      "text/plain": [
       "['I', 'writer']"
      ]
     },
     "execution_count": 62,
     "metadata": {},
     "output_type": "execute_result"
    }
   ],
   "source": [
    "[x for x in word if x not in english_stops]"
   ]
  },
  {
   "cell_type": "markdown",
   "id": "ba9e15bb",
   "metadata": {},
   "source": [
    "With the help of following Python script, we can also find the complete list of languages supported by NLTK stopwords corpus −"
   ]
  },
  {
   "cell_type": "code",
   "execution_count": 63,
   "id": "19c030e2",
   "metadata": {},
   "outputs": [
    {
     "data": {
      "text/plain": [
       "['arabic',\n",
       " 'azerbaijani',\n",
       " 'danish',\n",
       " 'dutch',\n",
       " 'english',\n",
       " 'finnish',\n",
       " 'french',\n",
       " 'german',\n",
       " 'greek',\n",
       " 'hungarian',\n",
       " 'indonesian',\n",
       " 'italian',\n",
       " 'kazakh',\n",
       " 'nepali',\n",
       " 'norwegian',\n",
       " 'portuguese',\n",
       " 'romanian',\n",
       " 'russian',\n",
       " 'slovene',\n",
       " 'spanish',\n",
       " 'swedish',\n",
       " 'tajik',\n",
       " 'turkish']"
      ]
     },
     "execution_count": 63,
     "metadata": {},
     "output_type": "execute_result"
    }
   ],
   "source": [
    "stopwords.fileids()"
   ]
  }
 ],
 "metadata": {
  "kernelspec": {
   "display_name": "Python 3",
   "language": "python",
   "name": "python3"
  },
  "language_info": {
   "codemirror_mode": {
    "name": "ipython",
    "version": 3
   },
   "file_extension": ".py",
   "mimetype": "text/x-python",
   "name": "python",
   "nbconvert_exporter": "python",
   "pygments_lexer": "ipython3",
   "version": "3.8.8"
  }
 },
 "nbformat": 4,
 "nbformat_minor": 5
}
