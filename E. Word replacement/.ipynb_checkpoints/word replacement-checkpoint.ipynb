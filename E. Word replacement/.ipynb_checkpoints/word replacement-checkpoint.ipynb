{
 "cells": [
  {
   "cell_type": "markdown",
   "id": "93e89873",
   "metadata": {},
   "source": [
    "Stemming and lemmatization can be considered as a kind of linguistic compression. In the same sense, word replacement can be thought of as text normalization or error correction.\n",
    "\n",
    "But why we needed word replacement? Suppose if we talk about tokenization, then it is having issues with contractions (like can’t, won’t, etc.). So, to handle such issues we need word replacement. For example, we can replace contractions with their expanded forms."
   ]
  },
  {
   "cell_type": "markdown",
   "id": "229268dd",
   "metadata": {},
   "source": [
    "### Word replacement using regular expression"
   ]
  },
  {
   "cell_type": "markdown",
   "id": "4d973b75",
   "metadata": {},
   "source": [
    "First, import all the nexessary packages"
   ]
  },
  {
   "cell_type": "code",
   "execution_count": 2,
   "id": "779615e0",
   "metadata": {},
   "outputs": [],
   "source": [
    "import re\n",
    "from nltk.corpus import wordnet"
   ]
  },
  {
   "cell_type": "markdown",
   "id": "936a806c",
   "metadata": {},
   "source": [
    "Next, define the replacement patterns of your choice as follows −"
   ]
  },
  {
   "cell_type": "code",
   "execution_count": 4,
   "id": "36084a74",
   "metadata": {},
   "outputs": [],
   "source": [
    "R_patterns = [\n",
    "   (r'won\\'t', 'will not'),\n",
    "   (r'can\\'t', 'cannot'),\n",
    "   (r'i\\'m', 'i am'),\n",
    "   (r'(\\w+)\\'ll', '\\g<1> will'),\n",
    "   (r'(\\w+)n\\'t', '\\g<1> not'),\n",
    "   (r'(\\w+)\\'ve', '\\g<1> have'),\n",
    "   (r'(\\w+)\\'s', '\\g<1> is'),\n",
    "   (r'(\\w+)\\'re', '\\g<1> are'),\n",
    "]"
   ]
  },
  {
   "cell_type": "code",
   "execution_count": 7,
   "id": "8520dee8",
   "metadata": {},
   "outputs": [],
   "source": [
    "class REReplacer(object):\n",
    "   def __init__(self, patterns = R_patterns):\n",
    "      self.pattern = [(re.compile(regex), repl) for (regex, repl) in patterns]\n",
    "   def replace(self, text):\n",
    "      s = text\n",
    "      for (pattern, repl) in self.pattern:\n",
    "         s = re.sub(pattern, repl, s)\n",
    "      return s"
   ]
  },
  {
   "cell_type": "code",
   "execution_count": 8,
   "id": "7e16b742",
   "metadata": {},
   "outputs": [
    {
     "data": {
      "text/plain": [
       "'I will not do it'"
      ]
     },
     "execution_count": 8,
     "metadata": {},
     "output_type": "execute_result"
    }
   ],
   "source": [
    "rep_word = REReplacer()\n",
    "rep_word.replace(\"I won't do it\")"
   ]
  },
  {
   "cell_type": "markdown",
   "id": "da0516b3",
   "metadata": {},
   "source": [
    "### Replacement before text processing"
   ]
  },
  {
   "cell_type": "code",
   "execution_count": 9,
   "id": "4345baa5",
   "metadata": {},
   "outputs": [],
   "source": [
    "from nltk.tokenize import word_tokenize"
   ]
  },
  {
   "cell_type": "code",
   "execution_count": 10,
   "id": "eff07e81",
   "metadata": {},
   "outputs": [
    {
     "data": {
      "text/plain": [
       "['I', 'wo', \"n't\", 'be', 'able', 'to', 'do', 'this', 'now']"
      ]
     },
     "execution_count": 10,
     "metadata": {},
     "output_type": "execute_result"
    }
   ],
   "source": [
    "rep_word = REReplacer()\n",
    "word_tokenize(\"I won't be able to do this now\")"
   ]
  },
  {
   "cell_type": "code",
   "execution_count": 11,
   "id": "cf971efc",
   "metadata": {},
   "outputs": [
    {
     "data": {
      "text/plain": [
       "['I', 'will', 'not', 'be', 'able', 'to', 'do', 'this', 'now']"
      ]
     },
     "execution_count": 11,
     "metadata": {},
     "output_type": "execute_result"
    }
   ],
   "source": [
    "word_tokenize(rep_word.replace(\"I won't be able to do this now\"))"
   ]
  },
  {
   "cell_type": "markdown",
   "id": "261d7568",
   "metadata": {},
   "source": [
    "### Removal of repeating characters"
   ]
  },
  {
   "cell_type": "code",
   "execution_count": 19,
   "id": "efa40b46",
   "metadata": {},
   "outputs": [],
   "source": [
    "class Rep_word_removal(object):\n",
    "    \n",
    "    def __init__(self):\n",
    "        self.repeat_regexp = re.compile(r'(\\w*)(\\w)\\2(\\w*)')\n",
    "        self.repl = r'\\1\\2\\3'\n",
    "    def replace(self, word):\n",
    "        if wordnet.synsets(word):\n",
    "            return word\n",
    "\n",
    "        repl_word = self.repeat_regexp.sub(self.repl, word)\n",
    "        if repl_word != word:\n",
    "            return self.replace(repl_word)\n",
    "        else:\n",
    "            return repl_word"
   ]
  },
  {
   "cell_type": "code",
   "execution_count": 20,
   "id": "ff68b149",
   "metadata": {},
   "outputs": [
    {
     "data": {
      "text/plain": [
       "'Hi'"
      ]
     },
     "execution_count": 20,
     "metadata": {},
     "output_type": "execute_result"
    }
   ],
   "source": [
    "rep_word = Rep_word_removal()\n",
    "rep_word.replace (\"Hiiiiiiiiiiiiiiiiiiiii\")"
   ]
  },
  {
   "cell_type": "code",
   "execution_count": 21,
   "id": "937347a1",
   "metadata": {},
   "outputs": [
    {
     "data": {
      "text/plain": [
       "'Hello'"
      ]
     },
     "execution_count": 21,
     "metadata": {},
     "output_type": "execute_result"
    }
   ],
   "source": [
    "rep_word.replace(\"Hellooooooooooooooo\")"
   ]
  }
 ],
 "metadata": {
  "kernelspec": {
   "display_name": "Python 3",
   "language": "python",
   "name": "python3"
  },
  "language_info": {
   "codemirror_mode": {
    "name": "ipython",
    "version": 3
   },
   "file_extension": ".py",
   "mimetype": "text/x-python",
   "name": "python",
   "nbconvert_exporter": "python",
   "pygments_lexer": "ipython3",
   "version": "3.8.8"
  }
 },
 "nbformat": 4,
 "nbformat_minor": 5
}
