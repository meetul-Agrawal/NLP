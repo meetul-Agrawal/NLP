{
 "cells": [
  {
   "cell_type": "markdown",
   "id": "200f8088",
   "metadata": {},
   "source": [
    "## Synonym replacement"
   ]
  },
  {
   "cell_type": "code",
   "execution_count": 1,
   "id": "af15356b",
   "metadata": {},
   "outputs": [],
   "source": [
    "import re\n",
    "from nltk.corpus import wordnet\n",
    "class word_syn_replacer(object):\n",
    "    def __init__(self, word_map):\n",
    "        self.word_map = word_map\n",
    "    def replace(self, word):\n",
    "        return self.word_map.get(word, word)"
   ]
  },
  {
   "cell_type": "code",
   "execution_count": 12,
   "id": "d841e66f",
   "metadata": {},
   "outputs": [
    {
     "data": {
      "text/plain": [
       "'birthday'"
      ]
     },
     "execution_count": 12,
     "metadata": {},
     "output_type": "execute_result"
    }
   ],
   "source": [
    "rep_syn = word_syn_replacer({\"bday\":\"birthday\"})\n",
    "rep_syn.replace(\"bday\")"
   ]
  },
  {
   "cell_type": "markdown",
   "id": "756fdb8b",
   "metadata": {},
   "source": [
    "## Antonym replacement"
   ]
  },
  {
   "cell_type": "code",
   "execution_count": 13,
   "id": "cf4a676c",
   "metadata": {},
   "outputs": [],
   "source": [
    "class word_antonym_replacer(object):\n",
    "    def replace(self, word, pos=None):\n",
    "        antonyms = set()\n",
    "        for syn in wordnet.synsets(word, pos=pos):\n",
    "            for lemma in syn.lemmas():\n",
    "                for antonym in lemma.antonyms():\n",
    "                    antonyms.add(antonym.name())\n",
    "        if len(antonyms) == 1:\n",
    "            return antonyms.pop()\n",
    "        else:\n",
    "            return None\n",
    "    def replace_negations(self, sent):\n",
    "        i, l = 0, len(sent)\n",
    "        words = []\n",
    "        while i < l:\n",
    "            word = sent[i]\n",
    "            if word == 'not' and i+1 < l:\n",
    "                ant = self.replace(sent[i+1])\n",
    "                if ant:\n",
    "                    words.append(ant)\n",
    "                    i += 2\n",
    "                    continue\n",
    "            words.append(word)\n",
    "            i += 1\n",
    "        return words"
   ]
  },
  {
   "cell_type": "code",
   "execution_count": 15,
   "id": "3322c15d",
   "metadata": {},
   "outputs": [
    {
     "data": {
      "text/plain": [
       "'beautify'"
      ]
     },
     "execution_count": 15,
     "metadata": {},
     "output_type": "execute_result"
    }
   ],
   "source": [
    "rep_antonym = word_antonym_replacer ()\n",
    "rep_antonym.replace(\"uglify\")"
   ]
  },
  {
   "cell_type": "markdown",
   "id": "f525d2a2",
   "metadata": {},
   "source": [
    "# Sentence implementation"
   ]
  },
  {
   "cell_type": "code",
   "execution_count": 16,
   "id": "7399e00e",
   "metadata": {},
   "outputs": [],
   "source": [
    "from nltk.tokenize import word_tokenize"
   ]
  },
  {
   "cell_type": "code",
   "execution_count": 17,
   "id": "caa937f1",
   "metadata": {},
   "outputs": [
    {
     "data": {
      "text/plain": [
       "['Let', 'us', 'beautify', 'our', 'country']"
      ]
     },
     "execution_count": 17,
     "metadata": {},
     "output_type": "execute_result"
    }
   ],
   "source": [
    "text = \"Let us not uglify our country\"\n",
    "\n",
    "sent = word_tokenize(text)\n",
    "\n",
    "rep_antonym.replace_negations(sent)"
   ]
  }
 ],
 "metadata": {
  "kernelspec": {
   "display_name": "Python 3",
   "language": "python",
   "name": "python3"
  },
  "language_info": {
   "codemirror_mode": {
    "name": "ipython",
    "version": 3
   },
   "file_extension": ".py",
   "mimetype": "text/x-python",
   "name": "python",
   "nbconvert_exporter": "python",
   "pygments_lexer": "ipython3",
   "version": "3.8.8"
  }
 },
 "nbformat": 4,
 "nbformat_minor": 5
}
